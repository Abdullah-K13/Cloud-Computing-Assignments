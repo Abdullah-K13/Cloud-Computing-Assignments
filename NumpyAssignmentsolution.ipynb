{
 "cells": [
  {
   "cell_type": "markdown",
   "metadata": {
    "id": "UZXjlass3ARu"
   },
   "source": [
    "\n",
    "# **1. Basic Array Manipulation:**\n"
   ]
  },
  {
   "cell_type": "markdown",
   "metadata": {
    "id": "tDWPQRm23C7o"
   },
   "source": [
    "Create a 1D array with values ranging from 0 to 9.\n"
   ]
  },
  {
   "cell_type": "code",
   "execution_count": 2,
   "metadata": {
    "id": "OvGF66_02Q8H"
   },
   "outputs": [
    {
     "name": "stdout",
     "output_type": "stream",
     "text": [
      "[0 1 2 3 4 5 6 7 8]\n"
     ]
    }
   ],
   "source": [
    "import numpy as np\n",
    "array = np.arange(9)\n",
    "print(array)"
   ]
  },
  {
   "cell_type": "markdown",
   "metadata": {
    "id": "UYzIzPyB3Ne3"
   },
   "source": [
    "Reshape the array into a 3x3 matrix.\n",
    "\n",
    "Explore Reshape Function"
   ]
  },
  {
   "cell_type": "code",
   "execution_count": 3,
   "metadata": {
    "id": "RLlzDCBc2Q_P"
   },
   "outputs": [
    {
     "name": "stdout",
     "output_type": "stream",
     "text": [
      "[[0 1 2]\n",
      " [3 4 5]\n",
      " [6 7 8]]\n"
     ]
    }
   ],
   "source": [
    "matrix = array.reshape(3,3)\n",
    "print(matrix)"
   ]
  },
  {
   "cell_type": "markdown",
   "metadata": {
    "id": "KmhRK9Ti3Phn"
   },
   "source": [
    "Access the element at the second row, second column.\n"
   ]
  },
  {
   "cell_type": "code",
   "execution_count": 4,
   "metadata": {
    "id": "Dk_a1D3A3ijN"
   },
   "outputs": [
    {
     "name": "stdout",
     "output_type": "stream",
     "text": [
      "[[4]]\n"
     ]
    }
   ],
   "source": [
    "print(matrix[1:2,1:2])"
   ]
  },
  {
   "cell_type": "markdown",
   "metadata": {
    "id": "NlH7N-fZ36wc"
   },
   "source": [
    "Perform element-wise addition, subtraction, multiplication, and division on two arrays [1, 2, 3] and [4, 5, 6].\n"
   ]
  },
  {
   "cell_type": "code",
   "execution_count": 5,
   "metadata": {
    "id": "PkgNSo1a37kP"
   },
   "outputs": [
    {
     "name": "stdout",
     "output_type": "stream",
     "text": [
      "Addition of two arrays is:\n",
      "[5 7 9]\n",
      "Subtraction of two arrays is:\n",
      "[-3 -3 -3]\n",
      "Multiplication of two arrays is:\n",
      "[ 4 10 18]\n",
      "Division of two arrays is:\n",
      "[0.25 0.4  0.5 ]\n"
     ]
    }
   ],
   "source": [
    "array1 = np.array([1,2,3])\n",
    "array2 = np.array([4,5,6])\n",
    "print('Addition of two arrays is:')\n",
    "print(array1+array2)\n",
    "print('Subtraction of two arrays is:')\n",
    "print(array1-array2)\n",
    "print('Multiplication of two arrays is:')\n",
    "print(array1*array2)\n",
    "print('Division of two arrays is:')\n",
    "print(array1/array2)"
   ]
  },
  {
   "cell_type": "markdown",
   "metadata": {
    "id": "JVt4zxkk8e0P"
   },
   "source": [
    "Find the sum, mean, and standard deviation of the array [1, 2, 3, 4, 5].\n"
   ]
  },
  {
   "cell_type": "code",
   "execution_count": 6,
   "metadata": {
    "id": "mQZxaZ0c8nhh"
   },
   "outputs": [
    {
     "name": "stdout",
     "output_type": "stream",
     "text": [
      "The sum of array is :\n",
      "15\n",
      "The mean of array is :\n",
      "3.0\n",
      "The standard deviation of array is :\n",
      "1.4142135623730951\n"
     ]
    }
   ],
   "source": [
    "arraynew = np.array([1,2,3,4,5])\n",
    "print('The sum of array is :')\n",
    "print(np.sum(arraynew))\n",
    "print('The mean of array is :')\n",
    "print(np.mean(arraynew))\n",
    "print('The standard deviation of array is :')\n",
    "print(np.std(arraynew))"
   ]
  },
  {
   "cell_type": "markdown",
   "metadata": {
    "id": "ji2XvW0Z8nn5"
   },
   "source": [
    "Reshape the array [1, 2, 3, 4, 5, 6] into a 2x3 array.\n",
    "\n",
    "Explore Reshape"
   ]
  },
  {
   "cell_type": "code",
   "execution_count": 7,
   "metadata": {
    "id": "FNbYlzyI8rAx"
   },
   "outputs": [
    {
     "name": "stdout",
     "output_type": "stream",
     "text": [
      "[[1 2 3]\n",
      " [4 5 6]]\n"
     ]
    }
   ],
   "source": [
    "array = np.array([1, 2, 3, 4, 5, 6])\n",
    "matrix = array.reshape(2,3)\n",
    "print(matrix)"
   ]
  },
  {
   "cell_type": "markdown",
   "metadata": {
    "id": "OE-5o0th3SU4"
   },
   "source": [
    "\n",
    "# **2. Indexing and Slicing:**\n"
   ]
  },
  {
   "cell_type": "markdown",
   "metadata": {
    "id": "yqNKWBOl3an3"
   },
   "source": [
    "Create a 5x5 array with random integers.\n"
   ]
  },
  {
   "cell_type": "code",
   "execution_count": 8,
   "metadata": {
    "id": "G-kX4nme2RBn"
   },
   "outputs": [
    {
     "name": "stdout",
     "output_type": "stream",
     "text": [
      "[[ 46  60  25  30  71]\n",
      " [ 41   5   6  95  37]\n",
      " [ 15  59 100  79  67]\n",
      " [ 42  25  18  78  99]\n",
      " [ 23  63  34  50  82]]\n"
     ]
    }
   ],
   "source": [
    "array = np.random.randint(0, 101, size=25)\n",
    "matrix = array.reshape(5,5)\n",
    "print(matrix)"
   ]
  },
  {
   "cell_type": "markdown",
   "metadata": {
    "id": "LlilKAMF3bMX"
   },
   "source": [
    "Replace all values in the sub-array with a specific value.\n"
   ]
  },
  {
   "cell_type": "code",
   "execution_count": 9,
   "metadata": {
    "id": "gShfqRGm2REI"
   },
   "outputs": [
    {
     "name": "stdout",
     "output_type": "stream",
     "text": [
      "[[13 13 13]\n",
      " [13 13 13]\n",
      " [13 13 13]]\n",
      "original matrix\n",
      "[[46 60 25 30 71]\n",
      " [41 13 13 13 37]\n",
      " [15 13 13 13 67]\n",
      " [42 13 13 13 99]\n",
      " [23 63 34 50 82]]\n"
     ]
    }
   ],
   "source": [
    "subarray = matrix[1:4,1:4]\n",
    "#subarray = 13 \n",
    "matrix[1:4,1:4] = 13\n",
    "print(subarray)\n",
    "print('original matrix')\n",
    "print(matrix)"
   ]
  },
  {
   "cell_type": "markdown",
   "metadata": {
    "id": "1kUY7u023gfF"
   },
   "source": [
    "Extract the subarray [[3, 4], [7, 8]] from the array [[1, 2], [3, 4], [5, 6], [7, 8]].\n"
   ]
  },
  {
   "cell_type": "code",
   "execution_count": 21,
   "metadata": {
    "id": "UmgqjBwC3_4V"
   },
   "outputs": [
    {
     "data": {
      "text/plain": [
       "array([[3, 4],\n",
       "       [7, 8]])"
      ]
     },
     "execution_count": 21,
     "metadata": {},
     "output_type": "execute_result"
    }
   ],
   "source": [
    "array = np.array( [[1, 2], [3, 4], [5, 6], [7, 8]])\n",
    "array\n",
    "#print(array)\n",
    "#print('Answer')\n",
    "array[[1,3]]\n",
    "#print(array[3:4,:])"
   ]
  },
  {
   "cell_type": "markdown",
   "metadata": {
    "id": "vPrCHS_O3jK9"
   },
   "source": [
    "\n",
    "# **3. Broadcasting:**"
   ]
  },
  {
   "cell_type": "markdown",
   "metadata": {
    "id": "W3WUM5Cc3phc"
   },
   "source": [
    "Create a 2D array of shape (3, 3) with values from 0 to 2.\n"
   ]
  },
  {
   "cell_type": "code",
   "execution_count": 24,
   "metadata": {
    "id": "PxJrAlFW2RGw"
   },
   "outputs": [
    {
     "name": "stdout",
     "output_type": "stream",
     "text": [
      "[[0 1 2]\n",
      " [0 1 2]\n",
      " [0 1 2]]\n"
     ]
    }
   ],
   "source": [
    "array = np.arange(3)\n",
    "array_2d = np.tile(array, (3,1))\n",
    "\n",
    "print(array_2d)\n"
   ]
  },
  {
   "cell_type": "markdown",
   "metadata": {
    "id": "J5XPwN3A3rXG"
   },
   "source": [
    "Add a 1D array of shape (3,) to each row of the 2D array using broadcasting.\n"
   ]
  },
  {
   "cell_type": "code",
   "execution_count": 55,
   "metadata": {
    "id": "k4FM2g_c2RJv"
   },
   "outputs": [
    {
     "name": "stdout",
     "output_type": "stream",
     "text": [
      "[[1 3 5]\n",
      " [1 3 5]\n",
      " [1 3 5]]\n"
     ]
    }
   ],
   "source": [
    "array_1d = np.array([1, 2, 3])\n",
    "print(array_1d+array_2d)"
   ]
  },
  {
   "cell_type": "markdown",
   "metadata": {
    "id": "9CbtQS3w4PA3"
   },
   "source": [
    "# **4. Concatenation and Splitting**"
   ]
  },
  {
   "cell_type": "markdown",
   "metadata": {
    "id": "yMg_umVy4ILG"
   },
   "source": [
    "\n",
    "1.   Create two 2D arrays of shape (3, 3) with random integers.\n",
    "2.   Concatenate them horizontally and vertically.\n",
    "3.   Split the concatenated arrays back into the original arrays.\n"
   ]
  },
  {
   "cell_type": "code",
   "execution_count": 58,
   "metadata": {
    "id": "wXiCa2Sn8XHP"
   },
   "outputs": [
    {
     "name": "stdout",
     "output_type": "stream",
     "text": [
      "array 1:\n",
      "[[9 2 5]\n",
      " [3 4 0]\n",
      " [0 3 4]]\n",
      "array 2:\n",
      "[[1 9 5]\n",
      " [4 3 7]\n",
      " [0 1 6]]\n"
     ]
    }
   ],
   "source": [
    "array1 = np.random.randint(0, 10, size=(3, 3))\n",
    "array2 = np.random.randint(0, 10, size=(3, 3))\n",
    "print('array 1:')\n",
    "print(array1)\n",
    "print('array 2:')\n",
    "print(array2)"
   ]
  },
  {
   "cell_type": "code",
   "execution_count": 59,
   "metadata": {
    "id": "yAiYe6vj8XSW"
   },
   "outputs": [
    {
     "name": "stdout",
     "output_type": "stream",
     "text": [
      "Concatenated Horizontally:\n",
      "[[9 2 5 1 9 5]\n",
      " [3 4 0 4 3 7]\n",
      " [0 3 4 0 1 6]]\n",
      "Concatenated Vertically:\n",
      "[[9 2 5]\n",
      " [3 4 0]\n",
      " [0 3 4]\n",
      " [1 9 5]\n",
      " [4 3 7]\n",
      " [0 1 6]]\n"
     ]
    }
   ],
   "source": [
    "concatenated_horizontal = np.concatenate((array1, array2), axis=1)\n",
    "\n",
    "concatenated_vertical = np.concatenate((array1, array2), axis=0)\n",
    "\n",
    "print(\"Concatenated Horizontally:\")\n",
    "print(concatenated_horizontal)\n",
    "print(\"Concatenated Vertically:\")\n",
    "print(concatenated_vertical)"
   ]
  },
  {
   "cell_type": "code",
   "execution_count": 63,
   "metadata": {
    "id": "lgMsjt-J8XZK"
   },
   "outputs": [
    {
     "name": "stdout",
     "output_type": "stream",
     "text": [
      "split horizontally\n",
      "[array([[9, 2, 5],\n",
      "       [3, 4, 0],\n",
      "       [0, 3, 4]]), array([[1, 9, 5],\n",
      "       [4, 3, 7],\n",
      "       [0, 1, 6]])]\n",
      "split vertically\n",
      "[array([[9, 2, 5],\n",
      "       [3, 4, 0],\n",
      "       [0, 3, 4]]), array([[1, 9, 5],\n",
      "       [4, 3, 7],\n",
      "       [0, 1, 6]])]\n"
     ]
    }
   ],
   "source": [
    "split_horizontal = np.hsplit(concatenated_horizontal, 2)  \n",
    "split_vertical = np.vsplit(concatenated_vertical, 2)  \n",
    "print('split horizontally')\n",
    "print(split_horizontal)\n",
    "print('split vertically')\n",
    "print(split_vertical)\n"
   ]
  },
  {
   "cell_type": "markdown",
   "metadata": {
    "id": "2CliNLH8YG3j"
   },
   "source": [
    "# **Bonus Question**\n",
    "\n",
    "Find mode of this array  = [1,2,1,2,3,4,5,6,8,9,1,2,2,22,21,1,1,1,1,2,5]\n",
    "\n",
    "Hint: Use count and also loop"
   ]
  },
  {
   "cell_type": "code",
   "execution_count": 29,
   "metadata": {
    "id": "JGe2Qe3SYaHq"
   },
   "outputs": [
    {
     "name": "stdout",
     "output_type": "stream",
     "text": [
      "[ 1  2  3  4  5  6  8  9 21 22]\n",
      "[7 5 1 1 2 1 1 1 1 1]\n",
      "[[0]]\n",
      "[1]\n",
      "7\n"
     ]
    }
   ],
   "source": [
    "array = np.array([1,2,1,2,3,4,5,6,8,9,1,2,2,22,21,1,1,1,1,2,5])\n",
    "vals, counts = np.unique(array, return_counts=True)\n",
    "print(vals)\n",
    "print(counts)\n",
    "mode_value = np.argwhere(counts == np.max(counts))\n",
    "print(mode_value)\n",
    "print(vals[mode_value].flatten().tolist())\n",
    "print(np.max(counts))\n"
   ]
  },
  {
   "cell_type": "markdown",
   "metadata": {
    "id": "1t9n5GQdYbHN"
   },
   "source": [
    "# **Notes**\n",
    "\n",
    "\n",
    "1.   All the Questions carry Equal Points (2 points)\n",
    "\n",
    "2.   Bonus Question carry 5 points\n",
    "\n",
    "3.   Review lecture for any query\n",
    "\n",
    "Good Luck!\n",
    "\n"
   ]
  },
  {
   "cell_type": "code",
   "execution_count": null,
   "metadata": {
    "id": "yxT9-gJfYugV"
   },
   "outputs": [],
   "source": []
  }
 ],
 "metadata": {
  "colab": {
   "provenance": []
  },
  "kernelspec": {
   "display_name": "Python 3 (ipykernel)",
   "language": "python",
   "name": "python3"
  },
  "language_info": {
   "codemirror_mode": {
    "name": "ipython",
    "version": 3
   },
   "file_extension": ".py",
   "mimetype": "text/x-python",
   "name": "python",
   "nbconvert_exporter": "python",
   "pygments_lexer": "ipython3",
   "version": "3.11.7"
  }
 },
 "nbformat": 4,
 "nbformat_minor": 4
}
